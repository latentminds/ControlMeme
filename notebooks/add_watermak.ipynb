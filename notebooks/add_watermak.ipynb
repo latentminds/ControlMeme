{
 "cells": [
  {
   "cell_type": "code",
   "execution_count": 1,
   "metadata": {},
   "outputs": [],
   "source": [
    "import cv2"
   ]
  },
  {
   "cell_type": "code",
   "execution_count": null,
   "metadata": {},
   "outputs": [],
   "source": []
  },
  {
   "cell_type": "code",
   "execution_count": 15,
   "metadata": {},
   "outputs": [
    {
     "data": {
      "text/plain": [
       "True"
      ]
     },
     "execution_count": 15,
     "metadata": {},
     "output_type": "execute_result"
    }
   ],
   "source": [
    "image_path = \"../images/newmeme2/1bgs.jpg\"\n",
    "text_to_add = \"Meme.Koll.ai\"\n",
    "\n",
    "image = cv2.imread(image_path)\n",
    "\n",
    "# bottomLeftCornerOfText = bottom left corner of the image\n",
    "bottomLeftCornerOfText = (0, image.shape[0] - 5)\n",
    "\n",
    "font = cv2.FONT_ITALIC\n",
    "fontScale = 0.5\n",
    "fontColor = (255, 255, 255)\n",
    "lineType = 2\n",
    "\n",
    "\n",
    "image_with_text =  cv2.putText(image, text_to_add, bottomLeftCornerOfText,\n",
    "                 font, fontScale, fontColor, lineType)\n",
    "\n",
    "cv2.imwrite(\"../images/1bgs_with_text.jpg\", image_with_text)\n"
   ]
  },
  {
   "cell_type": "code",
   "execution_count": null,
   "metadata": {},
   "outputs": [],
   "source": []
  }
 ],
 "metadata": {
  "kernelspec": {
   "display_name": "Python 3",
   "language": "python",
   "name": "python3"
  },
  "language_info": {
   "codemirror_mode": {
    "name": "ipython",
    "version": 3
   },
   "file_extension": ".py",
   "mimetype": "text/x-python",
   "name": "python",
   "nbconvert_exporter": "python",
   "pygments_lexer": "ipython3",
   "version": "3.10.4"
  },
  "orig_nbformat": 4
 },
 "nbformat": 4,
 "nbformat_minor": 2
}
