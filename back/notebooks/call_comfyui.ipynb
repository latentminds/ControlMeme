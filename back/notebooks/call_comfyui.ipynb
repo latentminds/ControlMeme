{
 "cells": [
  {
   "cell_type": "code",
   "execution_count": 4,
   "metadata": {},
   "outputs": [
    {
     "name": "stdout",
     "output_type": "stream",
     "text": [
      "Collecting python-dotenv\n",
      "  Downloading python_dotenv-1.0.1-py3-none-any.whl.metadata (23 kB)\n",
      "Downloading python_dotenv-1.0.1-py3-none-any.whl (19 kB)\n",
      "Installing collected packages: python-dotenv\n",
      "Successfully installed python-dotenv-1.0.1\n",
      "\n",
      "\u001b[1m[\u001b[0m\u001b[34;49mnotice\u001b[0m\u001b[1;39;49m]\u001b[0m\u001b[39;49m A new release of pip is available: \u001b[0m\u001b[31;49m24.0\u001b[0m\u001b[39;49m -> \u001b[0m\u001b[32;49m24.1.1\u001b[0m\n",
      "\u001b[1m[\u001b[0m\u001b[34;49mnotice\u001b[0m\u001b[1;39;49m]\u001b[0m\u001b[39;49m To update, run: \u001b[0m\u001b[32;49mpython3 -m pip install --upgrade pip\u001b[0m\n"
     ]
    }
   ],
   "source": [
    "!pip install python-dotenv"
   ]
  },
  {
   "cell_type": "code",
   "execution_count": 6,
   "metadata": {},
   "outputs": [
    {
     "name": "stdout",
     "output_type": "stream",
     "text": [
      "--2024-07-06 19:01:11--  https://storage.googleapis.com/control-meme-public/meme_variation_20230311-120313.274010.jpeg\n",
      "Resolving storage.googleapis.com (storage.googleapis.com)... 216.58.204.91, 172.217.169.27, 172.217.169.91, ...\n",
      "Connecting to storage.googleapis.com (storage.googleapis.com)|216.58.204.91|:443... connected.\n",
      "HTTP request sent, awaiting response... 200 OK\n",
      "Length: 23289 (23K) [image/jpeg]\n",
      "Saving to: ‘example.jpeg’\n",
      "\n",
      "example.jpeg        100%[===================>]  22.74K  --.-KB/s    in 0.09s   \n",
      "\n",
      "2024-07-06 19:01:11 (259 KB/s) - ‘example.jpeg’ saved [23289/23289]\n",
      "\n"
     ]
    }
   ],
   "source": [
    "!wget https://storage.googleapis.com/control-meme-public/meme_variation_20230311-120313.274010.jpeg -O example.jpeg\n"
   ]
  },
  {
   "cell_type": "code",
   "execution_count": 11,
   "metadata": {},
   "outputs": [],
   "source": [
    "import requests\n",
    "import os\n",
    "from jinja2 import Environment, FileSystemLoader\n",
    "import dotenv\n",
    "dotenv.load_dotenv()\n",
    "\n",
    "# complete workflow templates\n",
    "def fill_template(template_name: str, **kwargs) -> str:\n",
    "    file_loader = FileSystemLoader(\"../workflows\")\n",
    "    env = Environment(loader=file_loader)\n",
    "\n",
    "    # Load the template\n",
    "    template = env.get_template(f\"{template_name}.json.j2\")\n",
    "\n",
    "    # Render the template with the data\n",
    "    rendered_json = template.render(kwargs)\n",
    "\n",
    "    return rendered_json\n",
    "\n",
    "\n",
    "# call comfyUI runpod api\n",
    "def comfy_workflow(b64_input: str, workflow: str) -> str:\n",
    "    runpod_api_key = os.environ[\"RUNPOD_API_KEY\"]\n",
    "    runpod_endpoint_id = os.environ[\"RUNPOD_ENDPOINT_ID\"]\n",
    "\n",
    "    res = requests.post(\n",
    "        url=f\"https://api.runpod.ai/v2/{runpod_endpoint_id}/runsync\",\n",
    "        headers={\"Authorization\": f\"Bearer {runpod_api_key}\"},\n",
    "        json={\n",
    "            \"input\": {\n",
    "                \"workflow\": workflow,\n",
    "                \"images\": [{\"name\": \"example.png\", \"image\": b64_input}],\n",
    "            }\n",
    "        },\n",
    "    )\n",
    "\n",
    "    return res.json()"
   ]
  },
  {
   "cell_type": "code",
   "execution_count": 8,
   "metadata": {},
   "outputs": [],
   "source": [
    "from PIL import Image\n",
    "import base64\n",
    "# load exemple image in b64\n",
    "with open(\"example.jpeg\", \"rb\") as image_file:\n",
    "    b64_image = base64.b64encode(image_file.read()).decode(\"utf-8\")"
   ]
  },
  {
   "cell_type": "code",
   "execution_count": 12,
   "metadata": {},
   "outputs": [],
   "source": [
    "seed = 123\n",
    "prompt = \"A beautiful sunset over the ocean.\"\n",
    "\n",
    "generation_workflow = fill_template(\"generation\", seed=seed, prompt=prompt)\n",
    "comfy_reply = comfy_workflow(b64_image, generation_workflow)\n"
   ]
  },
  {
   "cell_type": "code",
   "execution_count": 13,
   "metadata": {},
   "outputs": [
    {
     "data": {
      "text/plain": [
       "{'delayTime': 3974,\n",
       " 'error': 'Error queuing workflow: HTTP Error 500: Internal Server Error',\n",
       " 'executionTime': 754,\n",
       " 'id': 'sync-6cb45163-a1f4-4ac3-a1f1-339fcd75a35a-e1',\n",
       " 'status': 'FAILED'}"
      ]
     },
     "execution_count": 13,
     "metadata": {},
     "output_type": "execute_result"
    }
   ],
   "source": [
    "comfy_reply"
   ]
  }
 ],
 "metadata": {
  "kernelspec": {
   "display_name": "Python 3",
   "language": "python",
   "name": "python3"
  },
  "language_info": {
   "codemirror_mode": {
    "name": "ipython",
    "version": 3
   },
   "file_extension": ".py",
   "mimetype": "text/x-python",
   "name": "python",
   "nbconvert_exporter": "python",
   "pygments_lexer": "ipython3",
   "version": "3.10.13"
  }
 },
 "nbformat": 4,
 "nbformat_minor": 2
}
